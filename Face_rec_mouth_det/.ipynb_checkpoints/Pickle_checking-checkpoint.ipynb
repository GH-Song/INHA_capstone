{
 "cells": [
  {
   "cell_type": "code",
   "execution_count": 2,
   "metadata": {},
   "outputs": [
    {
     "name": "stdout",
     "output_type": "stream",
     "text": [
      "[INFO] Read DataFrame from pickle...\n",
      "        Name     Label      time  InnerMAR        0-6\n",
      "0    Song_GH  speaking  0.647855  0.139927  24.020824\n",
      "1    Song_GH  speaking  0.791893  0.162615  23.021729\n",
      "2    Song_GH  speaking  0.899893  0.151279  22.022716\n",
      "3    Song_GH  speaking  1.006949  0.166818  23.021729\n",
      "4    Song_GH  speaking  1.109296  0.152973  23.021729\n",
      "..       ...       ...       ...       ...        ...\n",
      "195  Song_GH  speaking  0.000000  0.000000   0.000000\n",
      "196  Song_GH  speaking  0.000000  0.000000   0.000000\n",
      "197  Song_GH  speaking  0.000000  0.000000   0.000000\n",
      "198  Song_GH  speaking  0.000000  0.000000   0.000000\n",
      "199  Song_GH  speaking  0.000000  0.000000   0.000000\n",
      "\n",
      "[200 rows x 5 columns]\n"
     ]
    }
   ],
   "source": [
    "import pandas as pd\n",
    "\n",
    "metadata = pd.read_pickle('output/recorded_mouth_data.pickle')\n",
    "print(\"[INFO] Read DataFrame from pickle...\")\n",
    "print(metadata)"
   ]
  },
  {
   "cell_type": "code",
   "execution_count": null,
   "metadata": {},
   "outputs": [],
   "source": []
  },
  {
   "cell_type": "code",
   "execution_count": null,
   "metadata": {},
   "outputs": [],
   "source": []
  }
 ],
 "metadata": {
  "kernelspec": {
   "display_name": "Python 3",
   "language": "python",
   "name": "python3"
  },
  "language_info": {
   "codemirror_mode": {
    "name": "ipython",
    "version": 3
   },
   "file_extension": ".py",
   "mimetype": "text/x-python",
   "name": "python",
   "nbconvert_exporter": "python",
   "pygments_lexer": "ipython3",
   "version": "3.6.9"
  }
 },
 "nbformat": 4,
 "nbformat_minor": 2
}
